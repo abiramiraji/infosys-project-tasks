{
  "nbformat": 4,
  "nbformat_minor": 0,
  "metadata": {
    "colab": {
      "provenance": [],
      "toc_visible": true,
      "authorship_tag": "ABX9TyO+67ef8TvOvQ1ucpNoUapU",
      "include_colab_link": true
    },
    "kernelspec": {
      "name": "python3",
      "display_name": "Python 3"
    },
    "language_info": {
      "name": "python"
    }
  },
  "cells": [
    {
      "cell_type": "markdown",
      "metadata": {
        "id": "view-in-github",
        "colab_type": "text"
      },
      "source": [
        "<a href=\"https://colab.research.google.com/github/abiramiraji/infosys-project-tasks/blob/main/infosys_python_tasks.ipynb\" target=\"_parent\"><img src=\"https://colab.research.google.com/assets/colab-badge.svg\" alt=\"Open In Colab\"/></a>"
      ]
    },
    {
      "cell_type": "markdown",
      "source": [
        "# oops in python\n",
        "\n",
        "#Key Concepts of OOP\n",
        "\n",
        "1 Class:\n",
        "\n",
        "A class is like a blueprint or template. Imagine a blueprint for building houses. Each house built using the blueprint has the same structure but can have different colors or furniture.\n",
        "For example, a \"Car\" class might define attributes like \"brand\" and \"color\" and behaviors like \"drive\" and \"stop.\"\n",
        "\n",
        "2 Object:\n",
        "\n",
        "An object is an instance of a class. If the \"Car\" class is a blueprint, then a specific car, like a red Toyota, is an object created from that class.\n",
        "\n",
        "\n"
      ],
      "metadata": {
        "id": "nThtik4HX0pf"
      }
    },
    {
      "cell_type": "markdown",
      "source": [
        "# Core Principles of OOP\n",
        "#1 Inheritance:\n",
        "\n",
        "This allows one class to inherit the features of another class. Think of a \"Bird\" class with general features like \"can fly\" and \"lays eggs.\" A \"Parrot\" class can inherit these features while adding unique ones, like \"can mimic sounds.\"\n",
        "\n",
        "Example: A \"Dog\" class can inherit from an \"Animal\" class, which has general behaviors like \"eat\" and \"sleep.\" The \"Dog\" class might add specific behaviors like \"bark.\"\n",
        "\n",
        "#2 Encapsulation:\n",
        "\n",
        "Encapsulation restricts direct access to some parts of an object and allows controlled interaction.\n",
        "\n",
        "For example, a \"Bank Account\" object might hide its balance and only allow changes through deposit or withdrawal methods. This ensures security and prevents unauthorized changes.\n",
        "\n",
        "#3 Polymorphism:\n",
        "\n",
        "Polymorphism means \"many forms.\" It allows the same method name to work differently based on the object. For example, the word \"drive\" could mean riding a car, steering a boat, or flying a plane, depending on the type of vehicle.\n",
        "\n",
        "Example: If there’s a \"make_sound\" method, a \"Dog\" object may bark while a \"Cat\" object may meow, even though both are called the same way.\n",
        "\n",
        "#4 Abstraction:\n",
        "\n",
        "Abstraction focuses on what an object does rather than how it does it.\n",
        "\n",
        "For example, when you press the \"Start\" button on a washing machine, you don’t need to know the internal workings. The details are hidden, and only the function is exposed."
      ],
      "metadata": {
        "id": "kfEFQAtVZWSV"
      }
    },
    {
      "cell_type": "code",
      "source": [],
      "metadata": {
        "id": "_q2XeZPbZD_g"
      },
      "execution_count": null,
      "outputs": []
    },
    {
      "cell_type": "markdown",
      "source": [
        "#list,tuple,dict,set differences\n",
        "#1. List\n",
        "Definition: An ordered, mutable (modifiable) collection of elements.\n",
        "\n",
        "Features:\n",
        "Elements can be repeated.\n",
        "Indexable and slicable.\n",
        "Supports dynamic resizing (can grow or shrink).\n",
        "\n",
        "Use Case: When you need an ordered, changeable collection of items, such as a list of student names.\n",
        "\n",
        "#2. Tuple\n",
        "Definition: An ordered, immutable (unchangeable) collection of elements.\n",
        "\n",
        "Features:\n",
        "Elements can be repeated.\n",
        "Indexable and slicable, like lists.\n",
        "Once created, elements cannot be added, removed, or changed.\n",
        "\n",
        "Use Case: When you need a fixed collection of items, such as coordinates or configuration settings.\n",
        "\n",
        "#3. Dictionary\n",
        "Definition: An unordered collection of key-value pairs.\n",
        "\n",
        "Features:\n",
        "Keys must be unique and immutable (e.g., strings, numbers, tuples).\n",
        "Values can be of any type and are mutable.\n",
        "Fast lookups and updates by key.\n",
        "\n",
        "Use Case: When you need to map relationships between keys and values, such as storing a phone book or JSON-like data.\n",
        "\n",
        "#4. Set\n",
        "Definition: An unordered, mutable collection of unique elements.\n",
        "\n",
        "Features:\n",
        "Duplicate elements are not allowed.\n",
        "Supports mathematical set operations like union, intersection, and difference.\n",
        "Unindexed, so elements cannot be accessed by position.\n",
        "\n",
        "Use Case: When you need a collection of unique items, such as removing duplicates or performing set operations."
      ],
      "metadata": {
        "id": "q7EJWu1naYrE"
      }
    },
    {
      "cell_type": "markdown",
      "source": [
        "# list operations"
      ],
      "metadata": {
        "id": "-08GanrPbCvO"
      }
    },
    {
      "cell_type": "code",
      "source": [
        "# creating a list\n",
        "\n",
        "list1=[\"python\",7.79,101,\"hello\"]\n",
        "list2=[\"god\",6.8,9]"
      ],
      "metadata": {
        "id": "HjjKtNqzPmGG"
      },
      "execution_count": null,
      "outputs": []
    },
    {
      "cell_type": "code",
      "source": [
        "#list operations\n",
        "\n",
        "#1.indexing\n",
        "print(list1[0])"
      ],
      "metadata": {
        "colab": {
          "base_uri": "https://localhost:8080/"
        },
        "id": "it4ku7oFbYKM",
        "outputId": "323c4a9a-ad90-4e5a-826f-a06ec1f9ff48"
      },
      "execution_count": null,
      "outputs": [
        {
          "output_type": "stream",
          "name": "stdout",
          "text": [
            "python\n"
          ]
        }
      ]
    },
    {
      "cell_type": "code",
      "source": [
        "#slicing\n",
        "print(list1[0:2])"
      ],
      "metadata": {
        "colab": {
          "base_uri": "https://localhost:8080/"
        },
        "id": "tNH9Sw8MbeQ9",
        "outputId": "ad3694f3-d5cd-44b9-a359-6daa549947c1"
      },
      "execution_count": null,
      "outputs": [
        {
          "output_type": "stream",
          "name": "stdout",
          "text": [
            "['python', 7.79]\n"
          ]
        }
      ]
    },
    {
      "cell_type": "code",
      "source": [
        "print(list1[1:])"
      ],
      "metadata": {
        "colab": {
          "base_uri": "https://localhost:8080/"
        },
        "id": "ZGHoAy_dbhtb",
        "outputId": "b880e100-bcd9-453a-888b-f61068d5b94e"
      },
      "execution_count": null,
      "outputs": [
        {
          "output_type": "stream",
          "name": "stdout",
          "text": [
            "[7.79, 101, 'hello']\n"
          ]
        }
      ]
    },
    {
      "cell_type": "code",
      "source": [
        "#concatenation\n",
        "print(list1+list2)"
      ],
      "metadata": {
        "colab": {
          "base_uri": "https://localhost:8080/"
        },
        "id": "KQM5Qen9blQn",
        "outputId": "abf50cf7-e64f-49be-f05f-9e0979deebf0"
      },
      "execution_count": null,
      "outputs": [
        {
          "output_type": "stream",
          "name": "stdout",
          "text": [
            "['python', 7.79, 101, 'hello', 'god', 6.8, 9]\n"
          ]
        }
      ]
    },
    {
      "cell_type": "code",
      "source": [
        "#repetition\n",
        "print(list1*2)"
      ],
      "metadata": {
        "colab": {
          "base_uri": "https://localhost:8080/"
        },
        "id": "3ntKrBSEb-AC",
        "outputId": "b442c095-02c8-4ad7-e267-9b451345c627"
      },
      "execution_count": null,
      "outputs": [
        {
          "output_type": "stream",
          "name": "stdout",
          "text": [
            "['python', 7.79, 101, 'hello', 'python', 7.79, 101, 'hello']\n"
          ]
        }
      ]
    },
    {
      "cell_type": "code",
      "source": [
        "#updating the list\n",
        "list1[0]=\"java\"\n",
        "print(list1)"
      ],
      "metadata": {
        "colab": {
          "base_uri": "https://localhost:8080/"
        },
        "id": "CA6i3PkkcDkl",
        "outputId": "1d911bfc-3be8-40a0-9f90-1037f113f2e7"
      },
      "execution_count": null,
      "outputs": [
        {
          "output_type": "stream",
          "name": "stdout",
          "text": [
            "['java', 7.79, 101, 'hello']\n"
          ]
        }
      ]
    },
    {
      "cell_type": "code",
      "source": [
        "#inserting an element\n",
        "list1.insert(2,\"program\")\n",
        "print(list1)"
      ],
      "metadata": {
        "colab": {
          "base_uri": "https://localhost:8080/"
        },
        "id": "J9OKqJ74cHVE",
        "outputId": "54fa6948-dc50-4f6a-c7a6-b0f81573bb2b"
      },
      "execution_count": null,
      "outputs": [
        {
          "output_type": "stream",
          "name": "stdout",
          "text": [
            "['java', 7.79, 'program', 101, 'hello']\n"
          ]
        }
      ]
    },
    {
      "cell_type": "code",
      "source": [
        "#removing an element\n",
        "list1.remove(\"hello\")\n",
        "print(list1)"
      ],
      "metadata": {
        "colab": {
          "base_uri": "https://localhost:8080/"
        },
        "id": "6Hli4lzOcKtj",
        "outputId": "41c23617-912c-48fb-82ab-60f47bdabec5"
      },
      "execution_count": null,
      "outputs": [
        {
          "output_type": "stream",
          "name": "stdout",
          "text": [
            "['java', 7.79, 'program', 101]\n"
          ]
        }
      ]
    },
    {
      "cell_type": "markdown",
      "source": [
        "# tuple operation"
      ],
      "metadata": {
        "id": "Posb4tjQcRRy"
      }
    },
    {
      "cell_type": "code",
      "source": [
        "#creating a tuple\n",
        "t=(\"python\",7.79,101,\"hello\")"
      ],
      "metadata": {
        "id": "NZtzri55cTKj"
      },
      "execution_count": null,
      "outputs": []
    },
    {
      "cell_type": "code",
      "source": [
        "#tuple operations\n",
        "\n",
        "#1.indexing\n",
        "print(t[0])"
      ],
      "metadata": {
        "colab": {
          "base_uri": "https://localhost:8080/"
        },
        "id": "iMAdUGlDcZxx",
        "outputId": "64f175dc-7534-4de1-fc07-750525c92e52"
      },
      "execution_count": null,
      "outputs": [
        {
          "output_type": "stream",
          "name": "stdout",
          "text": [
            "python\n"
          ]
        }
      ]
    },
    {
      "cell_type": "code",
      "source": [
        "#slicing\n",
        "print(t[0:2])"
      ],
      "metadata": {
        "colab": {
          "base_uri": "https://localhost:8080/"
        },
        "id": "cP5SqBaQcgWZ",
        "outputId": "07e5c1b4-496d-4b9a-9a0f-2937ed2820fd"
      },
      "execution_count": null,
      "outputs": [
        {
          "output_type": "stream",
          "name": "stdout",
          "text": [
            "('python', 7.79)\n"
          ]
        }
      ]
    },
    {
      "cell_type": "code",
      "source": [
        "#concatenation\n",
        "print(t+t)\n"
      ],
      "metadata": {
        "colab": {
          "base_uri": "https://localhost:8080/"
        },
        "id": "jLYLlg9ucjdo",
        "outputId": "3e82be2a-22eb-4414-9955-e0dadcccd26d"
      },
      "execution_count": null,
      "outputs": [
        {
          "output_type": "stream",
          "name": "stdout",
          "text": [
            "('python', 7.79, 101, 'hello', 'python', 7.79, 101, 'hello')\n"
          ]
        }
      ]
    },
    {
      "cell_type": "markdown",
      "source": [
        "#dictionary operations"
      ],
      "metadata": {
        "id": "1HbIYqgHcry4"
      }
    },
    {
      "cell_type": "code",
      "source": [
        "#Creating a Dictionaries:\n",
        "person = {\n",
        "    \"name\": \"Alice\",\n",
        "    \"age\": 30,\n",
        "    \"city\": \"New York\"\n",
        "}"
      ],
      "metadata": {
        "id": "tvQVTVa9cxIm"
      },
      "execution_count": null,
      "outputs": []
    },
    {
      "cell_type": "code",
      "source": [
        "#Accessing values:\n",
        "\n",
        "print(person[\"name\"])  # Alice\n"
      ],
      "metadata": {
        "colab": {
          "base_uri": "https://localhost:8080/"
        },
        "id": "lekAMRWwc1pi",
        "outputId": "1af8ca91-6e60-4e5f-a838-82f42d2b3228"
      },
      "execution_count": null,
      "outputs": [
        {
          "output_type": "stream",
          "name": "stdout",
          "text": [
            "Alice\n"
          ]
        }
      ]
    },
    {
      "cell_type": "code",
      "source": [
        "#Adding/Modifying Key-Value Pairs:\n",
        "person[\"age\"] = 31\n",
        "person[\"country\"] = \"USA\"\n",
        "print(person)\n"
      ],
      "metadata": {
        "colab": {
          "base_uri": "https://localhost:8080/"
        },
        "id": "f1aIgMPjc4Yp",
        "outputId": "6ffd73bd-8509-423f-926e-38be92217f27"
      },
      "execution_count": null,
      "outputs": [
        {
          "output_type": "stream",
          "name": "stdout",
          "text": [
            "{'name': 'Alice', 'age': 31, 'city': 'New York', 'country': 'USA'}\n"
          ]
        }
      ]
    },
    {
      "cell_type": "markdown",
      "source": [
        "# sets operation"
      ],
      "metadata": {
        "id": "zRpWMPeCc86_"
      }
    },
    {
      "cell_type": "code",
      "source": [
        "#Operations on Sets:\n",
        "#Creating a Set:\n",
        "unique_numbers = {1, 2, 3, 4, 5}"
      ],
      "metadata": {
        "id": "HmAT29xbdAER"
      },
      "execution_count": null,
      "outputs": []
    },
    {
      "cell_type": "code",
      "source": [
        "#Adding Elements:\n",
        "unique_numbers.add(6)\n",
        "print(unique_numbers)"
      ],
      "metadata": {
        "colab": {
          "base_uri": "https://localhost:8080/"
        },
        "id": "KNtnjX3idC2U",
        "outputId": "68b38939-6fa1-45ec-fba9-855cb43ccf3b"
      },
      "execution_count": null,
      "outputs": [
        {
          "output_type": "stream",
          "name": "stdout",
          "text": [
            "{1, 2, 4, 5, 6}\n"
          ]
        }
      ]
    },
    {
      "cell_type": "code",
      "source": [
        "#Removing Elements:\n",
        "unique_numbers.remove(5)\n",
        "print(unique_numbers)"
      ],
      "metadata": {
        "colab": {
          "base_uri": "https://localhost:8080/"
        },
        "id": "Fs0GWDKHdI--",
        "outputId": "c8472bd1-da73-4e12-b7aa-3c590984dff2"
      },
      "execution_count": null,
      "outputs": [
        {
          "output_type": "stream",
          "name": "stdout",
          "text": [
            "{1, 2, 4, 6}\n"
          ]
        }
      ]
    },
    {
      "cell_type": "markdown",
      "source": [
        "# lambda function\n",
        "\n",
        "The lambda function in programming, particularly in languages like Python, is used to create small, anonymous functions. It is often used for short, simple operations where defining a full function with a def statement would be unnecessary or cumbersome.\n",
        "\n",
        "#example\n",
        "\n",
        "Imagine you’re working at a bakery, and you occasionally need to measure ingredients (e.g., 2 spoons of sugar or 3 cups of flour). Instead of using a permanent measuring device, you grab a disposable spoon just for the task. Similarly, lambda functions are like those disposable tools — simple, quick, and designed for one-time use."
      ],
      "metadata": {
        "id": "C8waT2fngeOE"
      }
    },
    {
      "cell_type": "code",
      "source": [
        "#Simple Example:\n",
        "\n",
        "square = lambda x: x ** 2\n",
        "print(square(4))  # Output: 16"
      ],
      "metadata": {
        "colab": {
          "base_uri": "https://localhost:8080/"
        },
        "id": "c9-hLIyPgjcQ",
        "outputId": "71b2e208-9896-49bc-db28-cea6b45cef57"
      },
      "execution_count": null,
      "outputs": [
        {
          "output_type": "stream",
          "name": "stdout",
          "text": [
            "16\n"
          ]
        }
      ]
    },
    {
      "cell_type": "code",
      "source": [
        "#2. Multiple Arguments: Adding Two Numbers\n",
        "\n",
        "sum_two = lambda x, y: x + y\n",
        "print(sum_two(3, 7))  # Output: 10"
      ],
      "metadata": {
        "colab": {
          "base_uri": "https://localhost:8080/"
        },
        "id": "WoRhm6KEttz3",
        "outputId": "83390a24-3b93-4161-de67-32f82dd37cb5"
      },
      "execution_count": null,
      "outputs": [
        {
          "output_type": "stream",
          "name": "stdout",
          "text": [
            "10\n"
          ]
        }
      ]
    },
    {
      "cell_type": "code",
      "source": [
        "#3. Using lambda in map: Calculating Squares\n",
        "\n",
        "numbers = [1, 2, 3, 4]\n",
        "squares = map(lambda x: x ** 2, numbers)\n",
        "print(list(squares))  # Output: [1, 4, 9, 16]"
      ],
      "metadata": {
        "colab": {
          "base_uri": "https://localhost:8080/"
        },
        "id": "CpxL4P2Otz1n",
        "outputId": "b72021c6-56cf-4119-e4a4-03762ba61d72"
      },
      "execution_count": null,
      "outputs": [
        {
          "output_type": "stream",
          "name": "stdout",
          "text": [
            "[1, 4, 9, 16]\n"
          ]
        }
      ]
    },
    {
      "cell_type": "code",
      "source": [
        "#4. Using lambda in filter: Finding Even Numbers\n",
        "\n",
        "numbers = [1, 2, 3, 4, 5, 6]\n",
        "even_numbers = filter(lambda x: x % 2 == 0, numbers)\n",
        "print(list(even_numbers))  # Output: [2, 4, 6]"
      ],
      "metadata": {
        "colab": {
          "base_uri": "https://localhost:8080/"
        },
        "id": "HS7hRklFt5nj",
        "outputId": "c142a588-1fdf-440a-8155-76833b22ca76"
      },
      "execution_count": null,
      "outputs": [
        {
          "output_type": "stream",
          "name": "stdout",
          "text": [
            "[2, 4, 6]\n"
          ]
        }
      ]
    },
    {
      "cell_type": "markdown",
      "source": [
        "# pyspark\n",
        "\n",
        "PySpark is the Python API for Apache Spark, an open-source distributed computing framework designed for big data processing. PySpark allows you to leverage the power of Spark for processing large datasets and running machine learning workflows using Python."
      ],
      "metadata": {
        "id": "m9cWOhs0szVs"
      }
    },
    {
      "cell_type": "code",
      "source": [
        "#Installing PySpark\n",
        "\n",
        "! pip install pyspark"
      ],
      "metadata": {
        "id": "Q6S5wSPqhHJa",
        "colab": {
          "base_uri": "https://localhost:8080/"
        },
        "outputId": "5658632d-f466-4d67-c885-28b758b29d45"
      },
      "execution_count": null,
      "outputs": [
        {
          "output_type": "stream",
          "name": "stdout",
          "text": [
            "Requirement already satisfied: pyspark in /usr/local/lib/python3.10/dist-packages (3.5.3)\n",
            "Requirement already satisfied: py4j==0.10.9.7 in /usr/local/lib/python3.10/dist-packages (from pyspark) (0.10.9.7)\n"
          ]
        }
      ]
    },
    {
      "cell_type": "code",
      "source": [
        "#Import the necessary modules:\n",
        "\n",
        "from pyspark.sql import SparkSession"
      ],
      "metadata": {
        "id": "3jfECteNtO-3"
      },
      "execution_count": null,
      "outputs": []
    },
    {
      "cell_type": "code",
      "source": [
        "#Create a Spark session:\n",
        "\n",
        "\n",
        "spark = SparkSession.builder.appName(\"ExampleApp\").getOrCreate()"
      ],
      "metadata": {
        "id": "05e6HFtDtWSR"
      },
      "execution_count": null,
      "outputs": []
    },
    {
      "cell_type": "markdown",
      "source": [
        "#Django\n",
        "\n",
        "Django is a high-level Python web framework designed to help developers build robust and scalable web applications quickly and efficiently. It encourages clean, pragmatic design and provides a lot of built-in tools to simplify development.\n",
        "\n",
        "#Core Concepts of Django\n",
        "\n",
        "#1. MVC/MVT Architecture\n",
        "\n",
        "Model-View-Template (MVT) is Django's architecture:\n",
        "Model: Handles the database structure and data.\n",
        "View: Contains the business logic and communicates with models to render data to templates.\n",
        "\n",
        "Template: Handles the presentation layer (HTML, CSS, etc.).\n",
        "\n",
        "#2. ORM (Object-Relational Mapping)\n",
        "Django’s ORM allows developers to interact with the database using Python objects, rather than writing raw SQL queries.\n",
        "\n",
        "#3. Django Admin\n",
        "Automatically generated backend for managing database records, offering a quick way to perform CRUD operations.\n",
        "\n",
        "#4. URL Routing\n",
        "Django uses a URL dispatcher to map URLs to views, enabling clean and meaningful URLs.\n",
        "\n",
        "#5. Middleware\n",
        "Middleware is a framework of hooks for processing requests and responses, handling functionalities like authentication, session management, etc.\n",
        "\n",
        "\n",
        "#When to Use Django\n",
        "Ideal for projects that require rapid development, scalability, and a secure environment. Examples include e-commerce sites, social networks, and content management systems (CMS)."
      ],
      "metadata": {
        "id": "vgTUsk1VrfFS"
      }
    },
    {
      "cell_type": "code",
      "source": [],
      "metadata": {
        "id": "CKZ6griFr6GI"
      },
      "execution_count": null,
      "outputs": []
    }
  ]
}