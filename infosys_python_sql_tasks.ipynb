{
  "nbformat": 4,
  "nbformat_minor": 0,
  "metadata": {
    "colab": {
      "provenance": [],
      "toc_visible": true,
      "authorship_tag": "ABX9TyO6FAIOaJwmNLwT217U/NNN",
      "include_colab_link": true
    },
    "kernelspec": {
      "name": "python3",
      "display_name": "Python 3"
    },
    "language_info": {
      "name": "python"
    }
  },
  "cells": [
    {
      "cell_type": "markdown",
      "metadata": {
        "id": "view-in-github",
        "colab_type": "text"
      },
      "source": [
        "<a href=\"https://colab.research.google.com/github/abiramiraji/infosys-project-tasks/blob/main/infosys_python_sql_tasks.ipynb\" target=\"_parent\"><img src=\"https://colab.research.google.com/assets/colab-badge.svg\" alt=\"Open In Colab\"/></a>"
      ]
    },
    {
      "cell_type": "markdown",
      "source": [
        "# oops in python\n",
        "\n",
        "#Key Concepts of OOP\n",
        "\n",
        "1 Class:\n",
        "\n",
        "A class is like a blueprint or template. Imagine a blueprint for building houses. Each house built using the blueprint has the same structure but can have different colors or furniture.\n",
        "For example, a \"Car\" class might define attributes like \"brand\" and \"color\" and behaviors like \"drive\" and \"stop.\"\n",
        "\n",
        "2 Object:\n",
        "\n",
        "An object is an instance of a class. If the \"Car\" class is a blueprint, then a specific car, like a red Toyota, is an object created from that class.\n",
        "\n",
        "\n"
      ],
      "metadata": {
        "id": "nThtik4HX0pf"
      }
    },
    {
      "cell_type": "markdown",
      "source": [
        "# Core Principles of OOP\n",
        "#1 Inheritance:\n",
        "\n",
        "This allows one class to inherit the features of another class. Think of a \"Bird\" class with general features like \"can fly\" and \"lays eggs.\" A \"Parrot\" class can inherit these features while adding unique ones, like \"can mimic sounds.\"\n",
        "\n",
        "Example: A \"Dog\" class can inherit from an \"Animal\" class, which has general behaviors like \"eat\" and \"sleep.\" The \"Dog\" class might add specific behaviors like \"bark.\"\n",
        "\n",
        "#2 Encapsulation:\n",
        "\n",
        "Encapsulation restricts direct access to some parts of an object and allows controlled interaction.\n",
        "\n",
        "For example, a \"Bank Account\" object might hide its balance and only allow changes through deposit or withdrawal methods. This ensures security and prevents unauthorized changes.\n",
        "\n",
        "#3 Polymorphism:\n",
        "\n",
        "Polymorphism means \"many forms.\" It allows the same method name to work differently based on the object. For example, the word \"drive\" could mean riding a car, steering a boat, or flying a plane, depending on the type of vehicle.\n",
        "\n",
        "Example: If there’s a \"make_sound\" method, a \"Dog\" object may bark while a \"Cat\" object may meow, even though both are called the same way.\n",
        "\n",
        "#4 Abstraction:\n",
        "\n",
        "Abstraction focuses on what an object does rather than how it does it.\n",
        "\n",
        "For example, when you press the \"Start\" button on a washing machine, you don’t need to know the internal workings. The details are hidden, and only the function is exposed."
      ],
      "metadata": {
        "id": "kfEFQAtVZWSV"
      }
    },
    {
      "cell_type": "code",
      "source": [],
      "metadata": {
        "id": "_q2XeZPbZD_g"
      },
      "execution_count": null,
      "outputs": []
    },
    {
      "cell_type": "markdown",
      "source": [
        "#list,tuple,dict,set differences\n",
        "#1. List\n",
        "Definition: An ordered, mutable (modifiable) collection of elements.\n",
        "\n",
        "Features:\n",
        "Elements can be repeated.\n",
        "Indexable and slicable.\n",
        "Supports dynamic resizing (can grow or shrink).\n",
        "\n",
        "Use Case: When you need an ordered, changeable collection of items, such as a list of student names.\n",
        "\n",
        "#2. Tuple\n",
        "Definition: An ordered, immutable (unchangeable) collection of elements.\n",
        "\n",
        "Features:\n",
        "Elements can be repeated.\n",
        "Indexable and slicable, like lists.\n",
        "Once created, elements cannot be added, removed, or changed.\n",
        "\n",
        "Use Case: When you need a fixed collection of items, such as coordinates or configuration settings.\n",
        "\n",
        "#3. Dictionary\n",
        "Definition: An unordered collection of key-value pairs.\n",
        "\n",
        "Features:\n",
        "Keys must be unique and immutable (e.g., strings, numbers, tuples).\n",
        "Values can be of any type and are mutable.\n",
        "Fast lookups and updates by key.\n",
        "\n",
        "Use Case: When you need to map relationships between keys and values, such as storing a phone book or JSON-like data.\n",
        "\n",
        "#4. Set\n",
        "Definition: An unordered, mutable collection of unique elements.\n",
        "\n",
        "Features:\n",
        "Duplicate elements are not allowed.\n",
        "Supports mathematical set operations like union, intersection, and difference.\n",
        "Unindexed, so elements cannot be accessed by position.\n",
        "\n",
        "Use Case: When you need a collection of unique items, such as removing duplicates or performing set operations."
      ],
      "metadata": {
        "id": "q7EJWu1naYrE"
      }
    },
    {
      "cell_type": "markdown",
      "source": [
        "# list operations"
      ],
      "metadata": {
        "id": "-08GanrPbCvO"
      }
    },
    {
      "cell_type": "code",
      "source": [
        "# creating a list\n",
        "\n",
        "list1=[\"python\",7.79,101,\"hello\"]\n",
        "list2=[\"god\",6.8,9]"
      ],
      "metadata": {
        "id": "HjjKtNqzPmGG"
      },
      "execution_count": null,
      "outputs": []
    },
    {
      "cell_type": "code",
      "source": [
        "#list operations\n",
        "\n",
        "#1.indexing\n",
        "print(list1[0])"
      ],
      "metadata": {
        "colab": {
          "base_uri": "https://localhost:8080/"
        },
        "id": "it4ku7oFbYKM",
        "outputId": "323c4a9a-ad90-4e5a-826f-a06ec1f9ff48"
      },
      "execution_count": null,
      "outputs": [
        {
          "output_type": "stream",
          "name": "stdout",
          "text": [
            "python\n"
          ]
        }
      ]
    },
    {
      "cell_type": "code",
      "source": [
        "#slicing\n",
        "print(list1[0:2])"
      ],
      "metadata": {
        "colab": {
          "base_uri": "https://localhost:8080/"
        },
        "id": "tNH9Sw8MbeQ9",
        "outputId": "ad3694f3-d5cd-44b9-a359-6daa549947c1"
      },
      "execution_count": null,
      "outputs": [
        {
          "output_type": "stream",
          "name": "stdout",
          "text": [
            "['python', 7.79]\n"
          ]
        }
      ]
    },
    {
      "cell_type": "code",
      "source": [
        "print(list1[1:])"
      ],
      "metadata": {
        "colab": {
          "base_uri": "https://localhost:8080/"
        },
        "id": "ZGHoAy_dbhtb",
        "outputId": "b880e100-bcd9-453a-888b-f61068d5b94e"
      },
      "execution_count": null,
      "outputs": [
        {
          "output_type": "stream",
          "name": "stdout",
          "text": [
            "[7.79, 101, 'hello']\n"
          ]
        }
      ]
    },
    {
      "cell_type": "code",
      "source": [
        "#concatenation\n",
        "print(list1+list2)"
      ],
      "metadata": {
        "colab": {
          "base_uri": "https://localhost:8080/"
        },
        "id": "KQM5Qen9blQn",
        "outputId": "abf50cf7-e64f-49be-f05f-9e0979deebf0"
      },
      "execution_count": null,
      "outputs": [
        {
          "output_type": "stream",
          "name": "stdout",
          "text": [
            "['python', 7.79, 101, 'hello', 'god', 6.8, 9]\n"
          ]
        }
      ]
    },
    {
      "cell_type": "code",
      "source": [
        "#repetition\n",
        "print(list1*2)"
      ],
      "metadata": {
        "colab": {
          "base_uri": "https://localhost:8080/"
        },
        "id": "3ntKrBSEb-AC",
        "outputId": "b442c095-02c8-4ad7-e267-9b451345c627"
      },
      "execution_count": null,
      "outputs": [
        {
          "output_type": "stream",
          "name": "stdout",
          "text": [
            "['python', 7.79, 101, 'hello', 'python', 7.79, 101, 'hello']\n"
          ]
        }
      ]
    },
    {
      "cell_type": "code",
      "source": [
        "#updating the list\n",
        "list1[0]=\"java\"\n",
        "print(list1)"
      ],
      "metadata": {
        "colab": {
          "base_uri": "https://localhost:8080/"
        },
        "id": "CA6i3PkkcDkl",
        "outputId": "1d911bfc-3be8-40a0-9f90-1037f113f2e7"
      },
      "execution_count": null,
      "outputs": [
        {
          "output_type": "stream",
          "name": "stdout",
          "text": [
            "['java', 7.79, 101, 'hello']\n"
          ]
        }
      ]
    },
    {
      "cell_type": "code",
      "source": [
        "#inserting an element\n",
        "list1.insert(2,\"program\")\n",
        "print(list1)"
      ],
      "metadata": {
        "colab": {
          "base_uri": "https://localhost:8080/"
        },
        "id": "J9OKqJ74cHVE",
        "outputId": "54fa6948-dc50-4f6a-c7a6-b0f81573bb2b"
      },
      "execution_count": null,
      "outputs": [
        {
          "output_type": "stream",
          "name": "stdout",
          "text": [
            "['java', 7.79, 'program', 101, 'hello']\n"
          ]
        }
      ]
    },
    {
      "cell_type": "code",
      "source": [
        "#removing an element\n",
        "list1.remove(\"hello\")\n",
        "print(list1)"
      ],
      "metadata": {
        "colab": {
          "base_uri": "https://localhost:8080/"
        },
        "id": "6Hli4lzOcKtj",
        "outputId": "41c23617-912c-48fb-82ab-60f47bdabec5"
      },
      "execution_count": null,
      "outputs": [
        {
          "output_type": "stream",
          "name": "stdout",
          "text": [
            "['java', 7.79, 'program', 101]\n"
          ]
        }
      ]
    },
    {
      "cell_type": "markdown",
      "source": [
        "# tuple operation"
      ],
      "metadata": {
        "id": "Posb4tjQcRRy"
      }
    },
    {
      "cell_type": "code",
      "source": [
        "#creating a tuple\n",
        "t=(\"python\",7.79,101,\"hello\")"
      ],
      "metadata": {
        "id": "NZtzri55cTKj"
      },
      "execution_count": null,
      "outputs": []
    },
    {
      "cell_type": "code",
      "source": [
        "#tuple operations\n",
        "\n",
        "#1.indexing\n",
        "print(t[0])"
      ],
      "metadata": {
        "colab": {
          "base_uri": "https://localhost:8080/"
        },
        "id": "iMAdUGlDcZxx",
        "outputId": "64f175dc-7534-4de1-fc07-750525c92e52"
      },
      "execution_count": null,
      "outputs": [
        {
          "output_type": "stream",
          "name": "stdout",
          "text": [
            "python\n"
          ]
        }
      ]
    },
    {
      "cell_type": "code",
      "source": [
        "#slicing\n",
        "print(t[0:2])"
      ],
      "metadata": {
        "colab": {
          "base_uri": "https://localhost:8080/"
        },
        "id": "cP5SqBaQcgWZ",
        "outputId": "07e5c1b4-496d-4b9a-9a0f-2937ed2820fd"
      },
      "execution_count": null,
      "outputs": [
        {
          "output_type": "stream",
          "name": "stdout",
          "text": [
            "('python', 7.79)\n"
          ]
        }
      ]
    },
    {
      "cell_type": "code",
      "source": [
        "#concatenation\n",
        "print(t+t)\n"
      ],
      "metadata": {
        "colab": {
          "base_uri": "https://localhost:8080/"
        },
        "id": "jLYLlg9ucjdo",
        "outputId": "3e82be2a-22eb-4414-9955-e0dadcccd26d"
      },
      "execution_count": null,
      "outputs": [
        {
          "output_type": "stream",
          "name": "stdout",
          "text": [
            "('python', 7.79, 101, 'hello', 'python', 7.79, 101, 'hello')\n"
          ]
        }
      ]
    },
    {
      "cell_type": "markdown",
      "source": [
        "#dictionary operations"
      ],
      "metadata": {
        "id": "1HbIYqgHcry4"
      }
    },
    {
      "cell_type": "code",
      "source": [
        "#Creating a Dictionaries:\n",
        "person = {\n",
        "    \"name\": \"Alice\",\n",
        "    \"age\": 30,\n",
        "    \"city\": \"New York\"\n",
        "}"
      ],
      "metadata": {
        "id": "tvQVTVa9cxIm"
      },
      "execution_count": null,
      "outputs": []
    },
    {
      "cell_type": "code",
      "source": [
        "#Accessing values:\n",
        "\n",
        "print(person[\"name\"])  # Alice\n"
      ],
      "metadata": {
        "colab": {
          "base_uri": "https://localhost:8080/"
        },
        "id": "lekAMRWwc1pi",
        "outputId": "1af8ca91-6e60-4e5f-a838-82f42d2b3228"
      },
      "execution_count": null,
      "outputs": [
        {
          "output_type": "stream",
          "name": "stdout",
          "text": [
            "Alice\n"
          ]
        }
      ]
    },
    {
      "cell_type": "code",
      "source": [
        "#Adding/Modifying Key-Value Pairs:\n",
        "person[\"age\"] = 31\n",
        "person[\"country\"] = \"USA\"\n",
        "print(person)\n"
      ],
      "metadata": {
        "colab": {
          "base_uri": "https://localhost:8080/"
        },
        "id": "f1aIgMPjc4Yp",
        "outputId": "6ffd73bd-8509-423f-926e-38be92217f27"
      },
      "execution_count": null,
      "outputs": [
        {
          "output_type": "stream",
          "name": "stdout",
          "text": [
            "{'name': 'Alice', 'age': 31, 'city': 'New York', 'country': 'USA'}\n"
          ]
        }
      ]
    },
    {
      "cell_type": "markdown",
      "source": [
        "# sets operation"
      ],
      "metadata": {
        "id": "zRpWMPeCc86_"
      }
    },
    {
      "cell_type": "code",
      "source": [
        "#Operations on Sets:\n",
        "#Creating a Set:\n",
        "unique_numbers = {1, 2, 3, 4, 5}"
      ],
      "metadata": {
        "id": "HmAT29xbdAER"
      },
      "execution_count": null,
      "outputs": []
    },
    {
      "cell_type": "code",
      "source": [
        "#Adding Elements:\n",
        "unique_numbers.add(6)\n",
        "print(unique_numbers)"
      ],
      "metadata": {
        "colab": {
          "base_uri": "https://localhost:8080/"
        },
        "id": "KNtnjX3idC2U",
        "outputId": "68b38939-6fa1-45ec-fba9-855cb43ccf3b"
      },
      "execution_count": null,
      "outputs": [
        {
          "output_type": "stream",
          "name": "stdout",
          "text": [
            "{1, 2, 4, 5, 6}\n"
          ]
        }
      ]
    },
    {
      "cell_type": "code",
      "source": [
        "#Removing Elements:\n",
        "unique_numbers.remove(5)\n",
        "print(unique_numbers)"
      ],
      "metadata": {
        "colab": {
          "base_uri": "https://localhost:8080/"
        },
        "id": "Fs0GWDKHdI--",
        "outputId": "c8472bd1-da73-4e12-b7aa-3c590984dff2"
      },
      "execution_count": null,
      "outputs": [
        {
          "output_type": "stream",
          "name": "stdout",
          "text": [
            "{1, 2, 4, 6}\n"
          ]
        }
      ]
    },
    {
      "cell_type": "markdown",
      "source": [
        "# lambda function\n",
        "\n",
        "The lambda function in programming, particularly in languages like Python, is used to create small, anonymous functions. It is often used for short, simple operations where defining a full function with a def statement would be unnecessary or cumbersome.\n",
        "\n",
        "#example\n",
        "\n",
        "Imagine you’re working at a bakery, and you occasionally need to measure ingredients (e.g., 2 spoons of sugar or 3 cups of flour). Instead of using a permanent measuring device, you grab a disposable spoon just for the task. Similarly, lambda functions are like those disposable tools — simple, quick, and designed for one-time use."
      ],
      "metadata": {
        "id": "C8waT2fngeOE"
      }
    },
    {
      "cell_type": "code",
      "source": [
        "#Simple Example:\n",
        "\n",
        "square = lambda x: x ** 2\n",
        "print(square(4))  # Output: 16"
      ],
      "metadata": {
        "colab": {
          "base_uri": "https://localhost:8080/"
        },
        "id": "c9-hLIyPgjcQ",
        "outputId": "71b2e208-9896-49bc-db28-cea6b45cef57"
      },
      "execution_count": null,
      "outputs": [
        {
          "output_type": "stream",
          "name": "stdout",
          "text": [
            "16\n"
          ]
        }
      ]
    },
    {
      "cell_type": "code",
      "source": [
        "#2. Multiple Arguments: Adding Two Numbers\n",
        "\n",
        "sum_two = lambda x, y: x + y\n",
        "print(sum_two(3, 7))  # Output: 10"
      ],
      "metadata": {
        "colab": {
          "base_uri": "https://localhost:8080/"
        },
        "id": "WoRhm6KEttz3",
        "outputId": "83390a24-3b93-4161-de67-32f82dd37cb5"
      },
      "execution_count": null,
      "outputs": [
        {
          "output_type": "stream",
          "name": "stdout",
          "text": [
            "10\n"
          ]
        }
      ]
    },
    {
      "cell_type": "code",
      "source": [
        "#3. Using lambda in map: Calculating Squares\n",
        "\n",
        "numbers = [1, 2, 3, 4]\n",
        "squares = map(lambda x: x ** 2, numbers)\n",
        "print(list(squares))  # Output: [1, 4, 9, 16]"
      ],
      "metadata": {
        "colab": {
          "base_uri": "https://localhost:8080/"
        },
        "id": "CpxL4P2Otz1n",
        "outputId": "b72021c6-56cf-4119-e4a4-03762ba61d72"
      },
      "execution_count": null,
      "outputs": [
        {
          "output_type": "stream",
          "name": "stdout",
          "text": [
            "[1, 4, 9, 16]\n"
          ]
        }
      ]
    },
    {
      "cell_type": "code",
      "source": [
        "#4. Using lambda in filter: Finding Even Numbers\n",
        "\n",
        "numbers = [1, 2, 3, 4, 5, 6]\n",
        "even_numbers = filter(lambda x: x % 2 == 0, numbers)\n",
        "print(list(even_numbers))  # Output: [2, 4, 6]"
      ],
      "metadata": {
        "colab": {
          "base_uri": "https://localhost:8080/"
        },
        "id": "HS7hRklFt5nj",
        "outputId": "c142a588-1fdf-440a-8155-76833b22ca76"
      },
      "execution_count": null,
      "outputs": [
        {
          "output_type": "stream",
          "name": "stdout",
          "text": [
            "[2, 4, 6]\n"
          ]
        }
      ]
    },
    {
      "cell_type": "markdown",
      "source": [
        "#Django\n",
        "\n",
        "Django is a high-level Python web framework designed to help developers build robust and scalable web applications quickly and efficiently. It encourages clean, pragmatic design and provides a lot of built-in tools to simplify development.\n",
        "\n",
        "#Core Concepts of Django\n",
        "\n",
        "#1. MVC/MVT Architecture\n",
        "\n",
        "Model-View-Template (MVT) is Django's architecture:\n",
        "Model: Handles the database structure and data.\n",
        "View: Contains the business logic and communicates with models to render data to templates.\n",
        "\n",
        "Template: Handles the presentation layer (HTML, CSS, etc.).\n",
        "\n",
        "#2. ORM (Object-Relational Mapping)\n",
        "Django’s ORM allows developers to interact with the database using Python objects, rather than writing raw SQL queries.\n",
        "\n",
        "#3. Django Admin\n",
        "Automatically generated backend for managing database records, offering a quick way to perform CRUD operations.\n",
        "\n",
        "#4. URL Routing\n",
        "Django uses a URL dispatcher to map URLs to views, enabling clean and meaningful URLs.\n",
        "\n",
        "#5. Middleware\n",
        "Middleware is a framework of hooks for processing requests and responses, handling functionalities like authentication, session management, etc.\n",
        "\n",
        "\n",
        "#When to Use Django\n",
        "Ideal for projects that require rapid development, scalability, and a secure environment. Examples include e-commerce sites, social networks, and content management systems (CMS)."
      ],
      "metadata": {
        "id": "vgTUsk1VrfFS"
      }
    },
    {
      "cell_type": "markdown",
      "source": [
        "#pyspark"
      ],
      "metadata": {
        "id": "_-PNhgkckNEa"
      }
    },
    {
      "cell_type": "code",
      "source": [
        "#Installing PySpark\n",
        "#To install PySpark, use the following command:\n",
        "\n",
        "!pip install pyspark"
      ],
      "metadata": {
        "id": "CKZ6griFr6GI",
        "colab": {
          "base_uri": "https://localhost:8080/"
        },
        "outputId": "c1888b3b-dd40-41be-a89b-7e9803a27bc9"
      },
      "execution_count": 1,
      "outputs": [
        {
          "output_type": "stream",
          "name": "stdout",
          "text": [
            "Requirement already satisfied: pyspark in /usr/local/lib/python3.10/dist-packages (3.5.3)\n",
            "Requirement already satisfied: py4j==0.10.9.7 in /usr/local/lib/python3.10/dist-packages (from pyspark) (0.10.9.7)\n"
          ]
        }
      ]
    },
    {
      "cell_type": "code",
      "source": [
        "#Creating a Spark Session\n",
        "\n",
        "from pyspark.sql import SparkSession\n",
        "\n",
        "# Create a SparkSession\n",
        "spark = SparkSession.builder \\\n",
        "    .appName(\"PySparkExample\") \\\n",
        "    .getOrCreate()\n",
        "\n",
        "# Check Spark version\n",
        "print(\"Spark version:\", spark.version)\n"
      ],
      "metadata": {
        "colab": {
          "base_uri": "https://localhost:8080/"
        },
        "id": "p9UIM8cuk0Ce",
        "outputId": "740781b1-0582-406c-e33e-68607812c21f"
      },
      "execution_count": 2,
      "outputs": [
        {
          "output_type": "stream",
          "name": "stdout",
          "text": [
            "Spark version: 3.5.3\n"
          ]
        }
      ]
    },
    {
      "cell_type": "code",
      "source": [
        "# Create an RDD from a Python list\n",
        "data = [1, 2, 3, 4, 5]\n",
        "rdd = spark.sparkContext.parallelize(data)\n",
        "\n",
        "# Transformations and Actions\n",
        "rdd_squared = rdd.map(lambda x: x ** 2)  # Transformation\n",
        "print(rdd_squared.collect())  # Action: Output [1, 4, 9, 16, 25]\n"
      ],
      "metadata": {
        "colab": {
          "base_uri": "https://localhost:8080/"
        },
        "id": "r9ryQeFRlI8_",
        "outputId": "5ac68bc1-1996-4e43-d79a-a92163692891"
      },
      "execution_count": 3,
      "outputs": [
        {
          "output_type": "stream",
          "name": "stdout",
          "text": [
            "[1, 4, 9, 16, 25]\n"
          ]
        }
      ]
    },
    {
      "cell_type": "code",
      "source": [
        "#DataFrames\n",
        "# Create a DataFrame from a list of tuples\n",
        "data = [(\"Alice\", 25), (\"Bob\", 30), (\"Cathy\", 28)]\n",
        "columns = [\"Name\", \"Age\"]\n",
        "df = spark.createDataFrame(data, schema=columns)\n",
        "\n",
        "# Show the DataFrame\n",
        "df.show()\n",
        "\n",
        "# Perform Operations\n",
        "df.filter(df.Age > 25).show()\n"
      ],
      "metadata": {
        "colab": {
          "base_uri": "https://localhost:8080/"
        },
        "id": "coUdTOaDlORT",
        "outputId": "eda68e49-d757-40a0-d4df-c8d29097daba"
      },
      "execution_count": 4,
      "outputs": [
        {
          "output_type": "stream",
          "name": "stdout",
          "text": [
            "+-----+---+\n",
            "| Name|Age|\n",
            "+-----+---+\n",
            "|Alice| 25|\n",
            "|  Bob| 30|\n",
            "|Cathy| 28|\n",
            "+-----+---+\n",
            "\n",
            "+-----+---+\n",
            "| Name|Age|\n",
            "+-----+---+\n",
            "|  Bob| 30|\n",
            "|Cathy| 28|\n",
            "+-----+---+\n",
            "\n"
          ]
        }
      ]
    },
    {
      "cell_type": "code",
      "source": [],
      "metadata": {
        "id": "E4MMMoAQlVyE"
      },
      "execution_count": null,
      "outputs": []
    },
    {
      "cell_type": "markdown",
      "source": [
        "# sql basic\n",
        "\n",
        "### 1. What is SQL, and why is it important in data analytics?\n",
        "\n",
        "SQL (Structured Query Language) is a standard programming language designed for managing and manipulating relational databases. It allows users to retrieve, insert, update, and delete data stored in database tables.\n",
        "\n",
        "**Importance in Data Analytics:**\n",
        "- Enables efficient querying and analysis of large datasets.\n",
        "- Provides tools for data aggregation, filtering, and sorting.\n",
        "- Facilitates data cleaning and transformation.\n",
        "- Serves as the foundation for creating dashboards and reports.\n",
        "- Supports integration with various analytical tools.\n",
        "\n",
        "---\n",
        "\n",
        "### 2. Explain the difference between INNER JOIN, LEFT JOIN, RIGHT JOIN, and FULL OUTER JOIN.\n",
        "\n",
        "- **INNER JOIN:** Returns rows that have matching values in both tables.\n",
        "- **LEFT JOIN (LEFT OUTER JOIN):** Returns all rows from the left table and the matching rows from the right table. If no match exists, NULLs are returned for columns from the right table.\n",
        "- **RIGHT JOIN (RIGHT OUTER JOIN):** Returns all rows from the right table and the matching rows from the left table. If no match exists, NULLs are returned for columns from the left table.\n",
        "- **FULL OUTER JOIN:** Combines the results of both LEFT JOIN and RIGHT JOIN, returning all rows from both tables, with NULLs where there is no match.\n",
        "\n",
        "---\n",
        "\n",
        "### 3. What is the difference between WHERE and HAVING clauses?\n",
        "\n",
        "- **WHERE Clause:** Filters rows based on specified conditions before grouping data.\n",
        "- **HAVING Clause:** Filters groups of rows after they have been grouped using the `GROUP BY` clause. It's used for aggregate functions.\n",
        "\n",
        "Example:\n",
        "```sql\n",
        "SELECT department, AVG(salary)\n",
        "FROM employees\n",
        "WHERE age > 30\n",
        "GROUP BY department\n",
        "HAVING AVG(salary) > 50000;\n",
        "```\n",
        "\n",
        "---\n",
        "\n",
        "### 4. How do you use GROUP BY and HAVING in a query?\n",
        "\n",
        "- **GROUP BY:** Groups rows with the same values in specified columns into summary rows.\n",
        "- **HAVING:** Filters those summary rows based on aggregate functions.\n",
        "\n",
        "Example:\n",
        "```sql\n",
        "SELECT department, COUNT(employee_id) AS total_employees\n",
        "FROM employees\n",
        "GROUP BY department\n",
        "HAVING COUNT(employee_id) > 5;\n",
        "```\n",
        "This groups employees by department and shows only departments with more than 5 employees.\n",
        "\n",
        "---\n",
        "\n",
        "### 5. Write a query to find duplicate records in a table.\n",
        "\n",
        "Assume the table is `users` with a column `email`:\n",
        "```sql\n",
        "SELECT email, COUNT(*)\n",
        "FROM users\n",
        "GROUP BY email\n",
        "HAVING COUNT(*) > 1;\n",
        "```\n",
        "\n",
        "---\n",
        "\n",
        "### 6. How do you retrieve unique values from a table using SQL?\n",
        "\n",
        "Use the `DISTINCT` keyword:\n",
        "```sql\n",
        "SELECT DISTINCT column_name\n",
        "FROM table_name;\n",
        "```\n",
        "Example:\n",
        "```sql\n",
        "SELECT DISTINCT city\n",
        "FROM customers;\n",
        "```\n",
        "This retrieves unique cities from the `customers` table.\n",
        "\n",
        "---\n",
        "\n",
        "### 7. Explain the use of aggregate functions like COUNT(), SUM(), AVG(), MIN(), and MAX().\n",
        "\n",
        "- **COUNT():** Returns the number of rows or non-NULL values in a column.\n",
        "  ```sql\n",
        "  SELECT COUNT(*) FROM orders;\n",
        "  ```\n",
        "\n",
        "- **SUM():** Calculates the total sum of numeric values in a column.\n",
        "  ```sql\n",
        "  SELECT SUM(price) FROM sales;\n",
        "  ```\n",
        "\n",
        "- **AVG():** Computes the average value of a numeric column.\n",
        "  ```sql\n",
        "  SELECT AVG(salary) FROM employees;\n",
        "  ```\n",
        "\n",
        "- **MIN():** Returns the smallest value in a column.\n",
        "  ```sql\n",
        "  SELECT MIN(salary) FROM employees;\n",
        "  ```\n",
        "\n",
        "- **MAX():** Returns the largest value in a column.\n",
        "  ```sql\n",
        "  SELECT MAX(salary) FROM employees;\n",
        "  ```\n",
        "\n",
        "---\n",
        "\n",
        "### 8. What is the purpose of the DISTINCT keyword in SQL?\n",
        "\n",
        "The `DISTINCT` keyword is used to eliminate duplicate rows from the result set and return only unique values.\n",
        "\n",
        "Example:\n",
        "```sql\n",
        "SELECT DISTINCT department\n",
        "FROM employees;\n",
        "```\n",
        "This retrieves a list of unique departments from the `employees` table."
      ],
      "metadata": {
        "id": "VJLM-9PrlxUp"
      }
    },
    {
      "cell_type": "markdown",
      "source": [
        "# sql intermediate\n",
        "\n",
        "### 1. Write a query to find the second-highest salary from an employee table.\n",
        "\n",
        "Using a **subquery**:\n",
        "```sql\n",
        "SELECT MAX(salary) AS second_highest_salary\n",
        "FROM employees\n",
        "WHERE salary < (SELECT MAX(salary) FROM employees);\n",
        "```\n",
        "This query finds the highest salary (`MAX(salary)`) less than the overall maximum salary.\n",
        "\n",
        "---\n",
        "\n",
        "### 2. What are subqueries and how do you use them?\n",
        "\n",
        "A **subquery** is a query nested within another query. It is used to fetch intermediate results that the outer query can utilize.\n",
        "\n",
        "**Example:** Find employees who earn more than the average salary:\n",
        "```sql\n",
        "SELECT name\n",
        "FROM employees\n",
        "WHERE salary > (SELECT AVG(salary) FROM employees);\n",
        "```\n",
        "\n",
        "---\n",
        "\n",
        "### 3. What is a Common Table Expression (CTE)? Give an example of when to use it.\n",
        "\n",
        "A **Common Table Expression (CTE)** is a temporary result set that you can reference within a `SELECT`, `INSERT`, `UPDATE`, or `DELETE` statement. It simplifies complex queries by breaking them into readable blocks.\n",
        "\n",
        "**Example:** Find departments with total salaries above a threshold:\n",
        "```sql\n",
        "WITH department_salaries AS (\n",
        "    SELECT department_id, SUM(salary) AS total_salary\n",
        "    FROM employees\n",
        "    GROUP BY department_id\n",
        ")\n",
        "SELECT department_id\n",
        "FROM department_salaries\n",
        "WHERE total_salary > 50000;\n",
        "```\n",
        "\n",
        "---\n",
        "\n",
        "### 4. Explain window functions like ROW_NUMBER(), RANK(), and DENSE_RANK().\n",
        "\n",
        "- **ROW_NUMBER():** Assigns a unique rank to each row in the result set.\n",
        "- **RANK():** Assigns a rank to rows, but rows with the same value get the same rank, and the next rank skips numbers.\n",
        "- **DENSE_RANK():** Similar to `RANK()` but without gaps in ranking.\n",
        "\n",
        "**Example:**\n",
        "```sql\n",
        "SELECT name, salary,\n",
        "       ROW_NUMBER() OVER (ORDER BY salary DESC) AS row_number,\n",
        "       RANK() OVER (ORDER BY salary DESC) AS rank,\n",
        "       DENSE_RANK() OVER (ORDER BY salary DESC) AS dense_rank\n",
        "FROM employees;\n",
        "```\n",
        "\n",
        "---\n",
        "\n",
        "### 5. How do you combine results of two queries using UNION and UNION ALL?\n",
        "\n",
        "- **UNION:** Combines results from two queries and removes duplicates.\n",
        "- **UNION ALL:** Combines results but includes duplicates.\n",
        "\n",
        "**Example:**\n",
        "```sql\n",
        "SELECT name FROM employees\n",
        "UNION\n",
        "SELECT name FROM contractors;\n",
        "\n",
        "SELECT name FROM employees\n",
        "UNION ALL\n",
        "SELECT name FROM contractors;\n",
        "```\n",
        "\n",
        "---\n",
        "\n",
        "### 6. What are indexes in SQL, and how do they improve query performance?\n",
        "\n",
        "Indexes are database structures that improve query performance by allowing the database to locate rows more efficiently. They work like a table of contents in a book.\n",
        "\n",
        "- **Improves:** Search, sorting, and joining operations.\n",
        "- **Trade-off:** Increased storage and slower updates.\n",
        "\n",
        "**Creating an index:**\n",
        "```sql\n",
        "CREATE INDEX idx_employee_name ON employees(name);\n",
        "```\n",
        "\n",
        "---\n",
        "\n",
        "### 7. Write a query to calculate the total sales for each month using GROUP BY.\n",
        "\n",
        "Assume a `sales` table with columns `sale_date` and `amount`:\n",
        "```sql\n",
        "SELECT DATE_FORMAT(sale_date, '%Y-%m') AS month,\n",
        "       SUM(amount) AS total_sales\n",
        "FROM sales\n",
        "GROUP BY DATE_FORMAT(sale_date, '%Y-%m');\n",
        "```\n",
        "\n",
        "This groups sales by month and calculates the total sales for each month."
      ],
      "metadata": {
        "id": "0u41jTgGmEl5"
      }
    },
    {
      "cell_type": "code",
      "source": [],
      "metadata": {
        "id": "6D9iuZs6l4OC"
      },
      "execution_count": null,
      "outputs": []
    },
    {
      "cell_type": "markdown",
      "source": [
        "# sql advanced\n",
        "\n",
        "### 1. How do you optimize a slow-running SQL query?\n",
        "\n",
        "**Ways to optimize SQL queries:**\n",
        "1. **Indexing:** Use appropriate indexes on frequently queried columns.\n",
        "2. **Avoid SELECT *:** Specify only the required columns to reduce data load.\n",
        "3. **Analyze Execution Plan:** Use tools like `EXPLAIN` or `EXPLAIN ANALYZE` to identify bottlenecks.\n",
        "4. **Optimize Joins:** Ensure indexed columns are used in JOIN conditions, and avoid unnecessary joins.\n",
        "5. **Use LIMIT for Large Data:** Limit the number of rows fetched if possible.\n",
        "6. **Avoid Correlated Subqueries:** Replace them with joins or Common Table Expressions (CTEs) where applicable.\n",
        "7. **Partitioning and Clustering:** Partition large tables to make queries more efficient.\n",
        "8. **Cache Results:** Cache frequently used results to reduce repetitive calculations.\n",
        "\n",
        "---\n",
        "\n",
        "### 2. What are views in SQL, and when would you use them?\n",
        "\n",
        "**Views** are virtual tables based on the result of a `SELECT` query. They do not store data but act as reusable, queryable entities.\n",
        "\n",
        "**Use cases:**\n",
        "- Simplify complex queries.\n",
        "- Provide security by exposing only specific columns or rows.\n",
        "- Abstract underlying database schema changes.\n",
        "- Make reporting and analytics easier by predefining queries.\n",
        "\n",
        "**Example:**\n",
        "```sql\n",
        "CREATE VIEW employee_salaries AS\n",
        "SELECT name, department, salary\n",
        "FROM employees\n",
        "WHERE status = 'active';\n",
        "```\n",
        "\n",
        "---\n",
        "\n",
        "### 3. What is the difference between a stored procedure and a function in SQL?\n",
        "\n",
        "| **Aspect**           | **Stored Procedure**               | **Function**                          |\n",
        "|-----------------------|-------------------------------------|---------------------------------------|\n",
        "| **Purpose**           | Executes a series of operations.  | Returns a value or result set.        |\n",
        "| **Return Type**       | May not return a value explicitly. | Always returns a value.               |\n",
        "| **Use in Queries**    | Cannot be used in SQL statements.  | Can be used in SQL queries (e.g., `SELECT`). |\n",
        "| **Parameters**        | Can have input, output, or both.   | Only input parameters.                |\n",
        "\n",
        "**Example Stored Procedure:**\n",
        "```sql\n",
        "CREATE PROCEDURE IncreaseSalaries()\n",
        "BEGIN\n",
        "    UPDATE employees SET salary = salary * 1.1;\n",
        "END;\n",
        "```\n",
        "\n",
        "**Example Function:**\n",
        "```sql\n",
        "CREATE FUNCTION CalculateBonus(salary DECIMAL) RETURNS DECIMAL\n",
        "BEGIN\n",
        "    RETURN salary * 0.1;\n",
        "END;\n",
        "```\n",
        "\n",
        "---\n",
        "\n",
        "### 4. Explain the difference between TRUNCATE, DELETE, and DROP commands.\n",
        "\n",
        "- **TRUNCATE:** Deletes all rows from a table without logging individual row deletions. Faster but irreversible.\n",
        "  ```sql\n",
        "  TRUNCATE TABLE employees;\n",
        "  ```\n",
        "\n",
        "- **DELETE:** Deletes specific rows and logs each deletion. Can use `WHERE` for conditional deletions.\n",
        "  ```sql\n",
        "  DELETE FROM employees WHERE department = 'HR';\n",
        "  ```\n",
        "\n",
        "- **DROP:** Removes the table structure and data permanently.\n",
        "  ```sql\n",
        "  DROP TABLE employees;\n",
        "  ```\n",
        "\n",
        "---\n",
        "\n",
        "### 5. What are windowing functions, and how are they used in analytics?\n",
        "\n",
        "Windowing functions perform calculations across a set of rows related to the current row, providing aggregated results without collapsing rows.\n",
        "\n",
        "**Examples:**\n",
        "- **ROW_NUMBER():** Assigns a unique number to each row.\n",
        "- **SUM():** Calculates a running total.\n",
        "- **AVG():** Computes a moving average.\n",
        "\n",
        "**Example Query:**\n",
        "```sql\n",
        "SELECT name, salary,\n",
        "       SUM(salary) OVER (PARTITION BY department) AS total_department_salary\n",
        "FROM employees;\n",
        "```\n",
        "\n",
        "---\n",
        "\n",
        "### 6. How do you use PARTITION BY and ORDER BY in window functions?\n",
        "\n",
        "- **PARTITION BY:** Divides the dataset into subsets (similar to `GROUP BY` but does not collapse rows).\n",
        "- **ORDER BY:** Specifies the order of rows within each partition.\n",
        "\n",
        "**Example:**\n",
        "```sql\n",
        "SELECT name, department, salary,\n",
        "       ROW_NUMBER() OVER (PARTITION BY department ORDER BY salary DESC) AS rank\n",
        "FROM employees;\n",
        "```\n",
        "This ranks employees within each department based on their salary.\n",
        "\n",
        "---\n",
        "\n",
        "### 7. How do you handle NULL values in SQL, and what functions help with that?\n",
        "\n",
        "**Handling NULL values:**\n",
        "- **COALESCE():** Replaces NULL with a specified value.\n",
        "  ```sql\n",
        "  SELECT name, COALESCE(salary, 0) AS salary FROM employees;\n",
        "  ```\n",
        "\n",
        "- **ISNULL():** Similar to `COALESCE()` but only supports two arguments (SQL Server).\n",
        "  ```sql\n",
        "  SELECT ISNULL(salary, 0) FROM employees;\n",
        "  ```\n",
        "\n",
        "- **NULLIF():** Returns NULL if two values are equal.\n",
        "  ```sql\n",
        "  SELECT NULLIF(salary, 0) FROM employees;\n",
        "  ```\n",
        "\n",
        "- **Filters for NULL:**\n",
        "  ```sql\n",
        "  SELECT * FROM employees WHERE salary IS NULL;\n",
        "  SELECT * FROM employees WHERE salary IS NOT NULL;\n",
        "  ```"
      ],
      "metadata": {
        "id": "czh3Vg1fma6o"
      }
    },
    {
      "cell_type": "code",
      "source": [],
      "metadata": {
        "id": "3VUbdOhOmyN7"
      },
      "execution_count": null,
      "outputs": []
    }
  ]
}